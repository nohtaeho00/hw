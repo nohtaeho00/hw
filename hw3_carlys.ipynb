{
 "cells": [
  {
   "cell_type": "code",
   "execution_count": 6,
   "id": "e912a3e8-e12f-4061-8762-0cb45539a0f9",
   "metadata": {},
   "outputs": [],
   "source": [
    "import numpy as np"
   ]
  },
  {
   "cell_type": "code",
   "execution_count": 10,
   "id": "01509741-89c1-4da5-bdf4-9e733c5fa21e",
   "metadata": {},
   "outputs": [],
   "source": [
    "hairstyles = np.array([\"bouffant\", \"pixie\", \"dreadlocks\", \"crew\", \"bowl\", \"bob\", \"mohawk\", \"flattop\"])"
   ]
  },
  {
   "cell_type": "code",
   "execution_count": 15,
   "id": "4905b1d8-30ed-44bd-9e0c-c40c3b3c7d23",
   "metadata": {},
   "outputs": [],
   "source": [
    "prices =np.array([30, 25, 40, 20, 20, 35, 50, 35]) \n"
   ]
  },
  {
   "cell_type": "code",
   "execution_count": 12,
   "id": "6111f9b2-2f16-4bd4-a81d-c1defbeb761d",
   "metadata": {},
   "outputs": [],
   "source": [
    "last_week =np.array([2, 3, 5, 8, 4, 4, 6, 2]) "
   ]
  },
  {
   "cell_type": "code",
   "execution_count": 5,
   "id": "f70980d0-7cc6-40d2-a901-8a61d5ac6ce4",
   "metadata": {},
   "outputs": [],
   "source": [
    "total_price=0"
   ]
  },
  {
   "cell_type": "code",
   "execution_count": 17,
   "id": "1f1988af-e12d-47c9-a5f4-9794857dce19",
   "metadata": {},
   "outputs": [
    {
     "name": "stdout",
     "output_type": "stream",
     "text": [
      "31.875\n"
     ]
    }
   ],
   "source": [
    "average_price=(30+25+40+20+20+35+50+35)/len(prices)\n",
    "print(average_price)"
   ]
  },
  {
   "cell_type": "code",
   "execution_count": 22,
   "id": "395b6df0-d334-4230-8aba-68429d20cfaa",
   "metadata": {},
   "outputs": [
    {
     "name": "stdout",
     "output_type": "stream",
     "text": [
      "[25, 20, 35, 15, 15, 30, 45, 30]\n"
     ]
    }
   ],
   "source": [
    "new_prices = [price - 5 for price in prices]\n",
    "print(new_prices)"
   ]
  },
  {
   "cell_type": "code",
   "execution_count": 23,
   "id": "d49e3cf2-73b0-4646-a4f5-060671508fc3",
   "metadata": {},
   "outputs": [],
   "source": [
    "total_revenue=0"
   ]
  },
  {
   "cell_type": "code",
   "execution_count": null,
   "id": "ed32a0e0-c6cb-436e-b452-439d7baebf1a",
   "metadata": {},
   "outputs": [],
   "source": []
  },
  {
   "cell_type": "code",
   "execution_count": null,
   "id": "84dc1e93-25b7-489d-ab99-7d798aec2fee",
   "metadata": {},
   "outputs": [],
   "source": []
  },
  {
   "cell_type": "code",
   "execution_count": null,
   "id": "0fb03b77-2e83-42b2-b7b0-587954f6f352",
   "metadata": {},
   "outputs": [],
   "source": []
  }
 ],
 "metadata": {
  "kernelspec": {
   "display_name": "Python 3 (ipykernel)",
   "language": "python",
   "name": "python3"
  },
  "language_info": {
   "codemirror_mode": {
    "name": "ipython",
    "version": 3
   },
   "file_extension": ".py",
   "mimetype": "text/x-python",
   "name": "python",
   "nbconvert_exporter": "python",
   "pygments_lexer": "ipython3",
   "version": "3.10.9"
  }
 },
 "nbformat": 4,
 "nbformat_minor": 5
}
