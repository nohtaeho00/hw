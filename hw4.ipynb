{
 "cells": [
  {
   "cell_type": "code",
   "execution_count": 8,
   "id": "127514b4-ec5a-4d53-934d-0b986596720c",
   "metadata": {},
   "outputs": [
    {
     "data": {
      "text/plain": [
       "['쌍', '쇠', '복', '돌', '팽', '육', '쌍', '개', '칠', '갑', '삼', '방']"
      ]
     },
     "execution_count": 8,
     "metadata": {},
     "output_type": "execute_result"
    }
   ],
   "source": [
    "month=['쌍', '쇠', '복', '돌', '팽', '육', '쌍', '개', '칠', '갑', '삼', '방']\n",
    "month"
   ]
  },
  {
   "cell_type": "code",
   "execution_count": 14,
   "id": "1cdc7b0a-7eb9-4d36-942f-dc5d8c3a87c7",
   "metadata": {},
   "outputs": [
    {
     "data": {
      "text/plain": [
       "['봉',\n",
       " '구',\n",
       " '욕',\n",
       " '포',\n",
       " '똥',\n",
       " '삼',\n",
       " '식',\n",
       " '석',\n",
       " '놈',\n",
       " '님',\n",
       " '년',\n",
       " '돌',\n",
       " '단',\n",
       " '득',\n",
       " '방',\n",
       " '질',\n",
       " '장',\n",
       " '걸',\n",
       " '래',\n",
       " '룡',\n",
       " '동',\n",
       " '순',\n",
       " '자',\n",
       " '박',\n",
       " '창',\n",
       " '언',\n",
       " '것',\n",
       " '포',\n",
       " '만',\n",
       " '단',\n",
       " '국']"
      ]
     },
     "execution_count": 14,
     "metadata": {},
     "output_type": "execute_result"
    }
   ],
   "source": [
    "day=['봉', '구', '욕', '포', '똥', '삼', '식', '석', '놈', '님', '년', '돌', '단', '득', '방', '질', '장', '걸', '래', '룡', '동', '순', '자', '박', '창', '언', '것', '포', '만', '단', '국']\n",
    "day"
   ]
  },
  {
   "cell_type": "code",
   "execution_count": 17,
   "id": "3b031b19-050a-48ad-8872-d845f04bb10c",
   "metadata": {},
   "outputs": [
    {
     "name": "stdout",
     "output_type": "stream",
     "text": [
      "당신의 조선시대 이름은 안칠걸 입니다..\n"
     ]
    }
   ],
   "source": [
    "def get_my_chosun_name(name,month,day):\n",
    "    print(\"당신의 조선시대 이름은 %s%s%s 입니다..\"\n",
    "         % (name, month, day))\n",
    "get_my_chosun_name('안', month[9-1], day[18-1])"
   ]
  },
  {
   "cell_type": "code",
   "execution_count": null,
   "id": "c03d99d3-771f-4926-9f79-780d6c4cc3b0",
   "metadata": {},
   "outputs": [],
   "source": []
  }
 ],
 "metadata": {
  "kernelspec": {
   "display_name": "Python 3 (ipykernel)",
   "language": "python",
   "name": "python3"
  },
  "language_info": {
   "codemirror_mode": {
    "name": "ipython",
    "version": 3
   },
   "file_extension": ".py",
   "mimetype": "text/x-python",
   "name": "python",
   "nbconvert_exporter": "python",
   "pygments_lexer": "ipython3",
   "version": "3.10.9"
  }
 },
 "nbformat": 4,
 "nbformat_minor": 5
}
