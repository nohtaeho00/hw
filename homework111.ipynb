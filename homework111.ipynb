{
 "cells": [
  {
   "cell_type": "code",
   "execution_count": 2,
   "id": "659f866e-9998-4db7-a736-21d6c92e6997",
   "metadata": {},
   "outputs": [],
   "source": [
    "lovely_loveseat_description = \"Lovely Loveseat. Tufted polyester blend on wood. 32 inches high x 40 inches wide x 30 inches deep. Red or white.\"\n",
    "lovely_loveseat_price = 254.00"
   ]
  },
  {
   "cell_type": "code",
   "execution_count": 3,
   "id": "edb69f60-bc8e-495e-98c7-e9d4cbd68f4a",
   "metadata": {},
   "outputs": [],
   "source": [
    "stylish_settee_description=\"Stylish Settee. Faux leather on birch. 29.50 inches high x 54.75 inches wide x 28 inches deep. Black.\"\n",
    "stylish_settee_price=180.50"
   ]
  },
  {
   "cell_type": "code",
   "execution_count": 4,
   "id": "5df763e2-54d4-43aa-94b2-f63ab6ae0256",
   "metadata": {},
   "outputs": [],
   "source": [
    "luxurious_lamp_description=\"Luxurious Lamp. Glass and iron. 36 inches tall. Brown with cream shade.\"\n",
    "luxurious_lamp_price=52.15"
   ]
  },
  {
   "cell_type": "code",
   "execution_count": 5,
   "id": "ed43a800-69f2-4200-ae1a-fa9e216cee14",
   "metadata": {},
   "outputs": [],
   "source": [
    "sales_tax = 0.088"
   ]
  },
  {
   "cell_type": "code",
   "execution_count": 6,
   "id": "ad5a8dc3-81ee-490f-9460-12d1af85d137",
   "metadata": {},
   "outputs": [],
   "source": [
    "customer_one_total = 0"
   ]
  },
  {
   "cell_type": "code",
   "execution_count": 7,
   "id": "6d955fe4-87bf-40d6-bf41-05a5278b8ece",
   "metadata": {},
   "outputs": [],
   "source": [
    "customer_one_itemization = \" \""
   ]
  },
  {
   "cell_type": "code",
   "execution_count": 17,
   "id": "8378d375-bb76-4492-a560-e76fbbd58264",
   "metadata": {},
   "outputs": [
    {
     "name": "stdout",
     "output_type": "stream",
     "text": [
      "254.0\n"
     ]
    }
   ],
   "source": [
    "customer_one_total = lovely_loveseat_price\n",
    "print(customer_one_total)"
   ]
  },
  {
   "cell_type": "code",
   "execution_count": 18,
   "id": "166ad7dc-19e7-45e4-b3ef-49ce1776b4eb",
   "metadata": {},
   "outputs": [],
   "source": [
    "customer_one_itemization = lovely_loveseat_description"
   ]
  },
  {
   "cell_type": "code",
   "execution_count": 19,
   "id": "a6fd1843-7c1a-433b-9ca2-c1507c74a48b",
   "metadata": {},
   "outputs": [
    {
     "name": "stdout",
     "output_type": "stream",
     "text": [
      "306.15\n"
     ]
    }
   ],
   "source": [
    "customer_one_total +=luxurious_lamp_price\n",
    "print(customer_one_total)"
   ]
  },
  {
   "cell_type": "code",
   "execution_count": 20,
   "id": "ebf31472-7a9f-45c5-aaef-3c85fef75b0b",
   "metadata": {},
   "outputs": [
    {
     "name": "stdout",
     "output_type": "stream",
     "text": [
      "26.941199999999995\n"
     ]
    }
   ],
   "source": [
    "customer_one_tax=customer_one_total*sales_tax\n",
    "print(customer_one_tax)"
   ]
  },
  {
   "cell_type": "code",
   "execution_count": 23,
   "id": "2c7f51e9-3c2b-41b2-99f3-436f5772518d",
   "metadata": {},
   "outputs": [
    {
     "name": "stdout",
     "output_type": "stream",
     "text": [
      "Customer One Items:\n",
      "Lovely Loveseat. Tufted polyester blend on wood. 32 inches high x 40 inches wide x 30 inches deep. Red or white.\n",
      "Customer One Total:\n",
      "333.09119999999996\n"
     ]
    }
   ],
   "source": [
    "print(\"Customer One Items:\" )\n",
    "print(customer_one_itemization)\n",
    "print(\"Customer One Total:\")\n",
    "print(customer_one_total+customer_one_tax)"
   ]
  },
  {
   "cell_type": "code",
   "execution_count": null,
   "id": "124eabb0-2e8b-4761-9727-02f36d0027dd",
   "metadata": {},
   "outputs": [],
   "source": []
  }
 ],
 "metadata": {
  "kernelspec": {
   "display_name": "Python 3 (ipykernel)",
   "language": "python",
   "name": "python3"
  },
  "language_info": {
   "codemirror_mode": {
    "name": "ipython",
    "version": 3
   },
   "file_extension": ".py",
   "mimetype": "text/x-python",
   "name": "python",
   "nbconvert_exporter": "python",
   "pygments_lexer": "ipython3",
   "version": "3.10.9"
  }
 },
 "nbformat": 4,
 "nbformat_minor": 5
}
